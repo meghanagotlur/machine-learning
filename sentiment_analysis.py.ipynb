{
 "cells": [
  {
   "cell_type": "markdown",
   "metadata": {},
   "source": [
    "# Sentiment Analysis on Amazon food reviews\n",
    "Here we are given data of about 5 lakh reviews from customers on food products.\n",
    "We classify them as positive or negative based on the review text and summary."
   ]
  },
  {
   "cell_type": "code",
   "execution_count": 1,
   "metadata": {},
   "outputs": [
    {
     "name": "stdout",
     "output_type": "stream",
     "text": [
      "(568454, 10)\n",
      "<class 'pandas.core.frame.DataFrame'>\n",
      "   Id   ProductId          UserId                      ProfileName  \\\n",
      "0   1  B001E4KFG0  A3SGXH7AUHU8GW                       delmartian   \n",
      "1   2  B00813GRG4  A1D87F6ZCVE5NK                           dll pa   \n",
      "2   3  B000LQOCH0   ABXLMWJIXXAIN  Natalia Corres \"Natalia Corres\"   \n",
      "3   4  B000UA0QIQ  A395BORC6FGVXV                             Karl   \n",
      "4   5  B006K2ZZ7K  A1UQRSCLF8GW1T    Michael D. Bigham \"M. Wassir\"   \n",
      "\n",
      "   HelpfulnessNumerator  HelpfulnessDenominator  Score        Time  \\\n",
      "0                     1                       1      5  1303862400   \n",
      "1                     0                       0      1  1346976000   \n",
      "2                     1                       1      4  1219017600   \n",
      "3                     3                       3      2  1307923200   \n",
      "4                     0                       0      5  1350777600   \n",
      "\n",
      "                 Summary                                               Text  \n",
      "0  Good Quality Dog Food  I have bought several of the Vitality canned d...  \n",
      "1      Not as Advertised  Product arrived labeled as Jumbo Salted Peanut...  \n",
      "2  \"Delight\" says it all  This is a confection that has been around a fe...  \n",
      "3         Cough Medicine  If you are looking for the secret ingredient i...  \n",
      "4            Great taffy  Great taffy at a great price.  There was a wid...  \n"
     ]
    }
   ],
   "source": [
    "import pandas as pd\n",
    "import seaborn as sns\n",
    "import matplotlib.pyplot as plt\n",
    "import sqlite3\n",
    "sqlobject = sqlite3.connect('./database.sqlite')\n",
    "reviews = pd.read_sql_query(\"\"\"SELECT * FROM Reviews\"\"\", sqlobject)\n",
    "print reviews.shape\n",
    "print type(reviews)\n",
    "print reviews.head()\n",
    "#rev=pd.read_csv(\"F:\\Reviews.csv\")\n",
    "#rev1=pd.read_csv(\"Reviews.csv\")\n",
    "#print rev1.shape\n",
    "#print rev1.columns\n",
    "#print rev1.ProductId.nunique()\n",
    "#print rev1.UserId.nunique()"
   ]
  },
  {
   "cell_type": "markdown",
   "metadata": {},
   "source": [
    "We are counting the reviews for different ratings."
   ]
  },
  {
   "cell_type": "code",
   "execution_count": 2,
   "metadata": {},
   "outputs": [
    {
     "name": "stdout",
     "output_type": "stream",
     "text": [
      "5    363122\n",
      "4     80655\n",
      "1     52268\n",
      "3     42640\n",
      "2     29769\n",
      "Name: Score, dtype: int64\n",
      "(568454, 10)\n"
     ]
    }
   ],
   "source": [
    "data=reviews\n",
    "score=reviews[\"Score\"]\n",
    "#reviews[\"Score\"]=reviews['Score'].apply(lambda x: 'pos' if x > 3   else 'neg' )\n",
    "print reviews[\"Score\"].value_counts()\n",
    "print data.shape\n",
    "#print reviews.groupby('Score')['Summary'].count()"
   ]
  },
  {
   "cell_type": "markdown",
   "metadata": {},
   "source": [
    "We classify the reviews as positive or negative based on star rating.\n",
    "If review has less than 3 stars then it is considered as negative otherwise positive."
   ]
  },
  {
   "cell_type": "code",
   "execution_count": 3,
   "metadata": {},
   "outputs": [
    {
     "name": "stdout",
     "output_type": "stream",
     "text": [
      "Score\n",
      "n    124677\n",
      "p    443777\n",
      "Name: Summary, dtype: int64\n"
     ]
    }
   ],
   "source": [
    "reviews[\"Score\"]=reviews['Score'].apply(lambda x: 'p' if x > 3   else 'n' )\n",
    "print reviews.groupby('Score')['Summary'].count()"
   ]
  },
  {
   "cell_type": "markdown",
   "metadata": {},
   "source": [
    "A brief exploratory analysis on the given data.\n",
    "Positive reviews are very common."
   ]
  },
  {
   "cell_type": "code",
   "execution_count": 4,
   "metadata": {},
   "outputs": [
    {
     "data": {
      "image/png": "[encoded data removed]",
      "text/plain": [
       "<matplotlib.figure.Figure at 0x4b4efd0>"
      ]
     },
     "metadata": {},
     "output_type": "display_data"
    }
   ],
   "source": [
    "#this graph shows total number of positive and negative reviews.\n",
    "reviews.groupby('Score')['Summary'].count().plot(kind='bar',color=['r','g'],title='Label Distribution',figsize=(10,6))\n",
    "plt.show()"
   ]
  },
  {
   "cell_type": "markdown",
   "metadata": {},
   "source": [
    "Positive reviews are shorter. Here we are plotting avegrage mean length of reviews for positive and negative category."
   ]
  },
  {
   "cell_type": "code",
   "execution_count": 5,
   "metadata": {},
   "outputs": [
    {
     "name": "stdout",
     "output_type": "stream",
     "text": [
      "(124677, 10)\n",
      "(443777, 10)\n",
      "419.559896074 495.529696736\n"
     ]
    },
    {
     "data": {
      "image/png": "[encoded data removed]",
      "text/plain": [
       "<matplotlib.figure.Figure at 0x2c3aac88>"
      ]
     },
     "metadata": {},
     "output_type": "display_data"
    }
   ],
   "source": [
    "#Length of different positive reviews\n",
    "import numpy as np\n",
    "neg = reviews.loc[reviews['Score']=='n']\n",
    "pos = reviews.loc[reviews['Score']=='p']\n",
    "print neg.shape\n",
    "print pos.shape\n",
    "pl=np.mean(pos['Text'].str.len())\n",
    "nl=np.mean(neg['Text'].str.len())\n",
    "print pl,nl\n",
    "lst=np.empty(2)\n",
    "lst[0]=pl\n",
    "lst[1]=nl\n",
    "lst=pd.DataFrame(lst)\n",
    "lst.plot(kind='bar',color=['g','r'],title='Label Distribution',figsize=(10,6))\n",
    "plt.show()"
   ]
  },
  {
   "cell_type": "markdown",
   "metadata": {},
   "source": [
    "We find the helpfulness ratio for each review by taking the ratio of \n",
    "\n",
    "                      helpfulness ratio =  (number of users who voted it as helpful)/(total number of reviews)\n",
    "                      \n",
    "We consider the review as helpful if the ratio is greater than 0.75 and not-helpful if ratio is less than 0.25."
   ]
  },
  {
   "cell_type": "code",
   "execution_count": 6,
   "metadata": {
    "collapsed": true
   },
   "outputs": [],
   "source": [
    "from __future__ import division\n",
    "hfactor=np.empty(len(reviews))\n",
    "helpi=np.empty(len(reviews),dtype='string')\n",
    "nr=reviews[\"HelpfulnessNumerator\"]\n",
    "dr=reviews[\"HelpfulnessDenominator\"]\n",
    "for i in range(len(reviews)):\n",
    "    if dr[i]==0:\n",
    "        x=0\n",
    "    else:\n",
    "        x=float((nr[i]/dr[i]))\n",
    "    hfactor[i]=x\n",
    "    #print type(helpi)\n",
    "    if x>=0.75:\n",
    "        helpi[i]='helpful'\n",
    "    elif x>0.0 and x<0.25:\n",
    "        helpi[i]='not-helpful'\n",
    "    else:\n",
    "        helpi[i]='nan'\n",
    "        \n",
    "reviews['hratio']=hfactor\n",
    "reviews['help']=helpi\n",
    "#plt.scatter(neg[\"HelpfulnessNumerator\"]/neg[\"HelpfulnessDenominator\"],neg[\"HelpfulnessNumerator\"])\n",
    "#sns.FacetGrid(reviews, hue=\"help\", size=5).map(plt.bar, \"hratio\",).add_legend();\n"
   ]
  },
  {
   "cell_type": "markdown",
   "metadata": {},
   "source": [
    "The following plot is for helpfulness of reviews against length of review."
   ]
  },
  {
   "cell_type": "code",
   "execution_count": 7,
   "metadata": {},
   "outputs": [
    {
     "name": "stdout",
     "output_type": "stream",
     "text": [
      "help\n",
      "h    209200\n",
      "n    359254\n",
      "Name: Summary, dtype: int64\n"
     ]
    },
    {
     "data": {
      "image/png": "[encoded data removed]",
      "text/plain": [
       "<matplotlib.figure.Figure at 0x2eed2d68>"
      ]
     },
     "metadata": {},
     "output_type": "display_data"
    }
   ],
   "source": [
    "#print reviews[\"hratio\"]\n",
    "print reviews.groupby('help')['Summary'].count()\n",
    "reviews.groupby('help')['Text'].count().plot(kind='bar',color=['g','r'],title='Helpfulness Distribution')\n",
    "plt.show()"
   ]
  },
  {
   "cell_type": "markdown",
   "metadata": {},
   "source": [
    "The following plot is helpfulness of review against the star rating for each review."
   ]
  },
  {
   "cell_type": "code",
   "execution_count": 8,
   "metadata": {},
   "outputs": [
    {
     "data": {
      "image/png": "[encoded data removed]",
      "text/plain": [
       "<matplotlib.figure.Figure at 0x35d29c18>"
      ]
     },
     "metadata": {},
     "output_type": "display_data"
    }
   ],
   "source": [
    "reviews['stars']=score\n",
    "#print reviews['stars']\n",
    "reviews.groupby(['stars','help'])['Summary'].count().plot(kind='bar',title='Helpfulness Distribution')\n",
    "plt.show()"
   ]
  },
  {
   "cell_type": "code",
   "execution_count": 9,
   "metadata": {
    "collapsed": true
   },
   "outputs": [],
   "source": [
    "wc=np.empty(len(reviews))\n",
    "text=reviews['Text']\n",
    "for i in range(len(reviews)):\n",
    "    wc[i]=len(text[i].split())\n",
    "reviews['words']=wc"
   ]
  },
  {
   "cell_type": "markdown",
   "metadata": {},
   "source": [
    "A box plot for word count for each review and rating for each review."
   ]
  },
  {
   "cell_type": "code",
   "execution_count": 10,
   "metadata": {},
   "outputs": [
    {
     "name": "stdout",
     "output_type": "stream",
     "text": [
      "3432.0\n"
     ]
    },
    {
     "data": {
      "image/png": "[encoded data removed]",
      "text/plain": [
       "<matplotlib.figure.Figure at 0x3d2b22e8>"
      ]
     },
     "metadata": {},
     "output_type": "display_data"
    }
   ],
   "source": [
    "print max(reviews['words'])\n",
    "sns.boxplot(x='stars',y='words', data=reviews)\n",
    "plt.show()"
   ]
  },
  {
   "cell_type": "markdown",
   "metadata": {},
   "source": [
    " Longer reviews are more helpful.\n",
    " Therefore for this we plot a bar graph which has word count for reviews against the helpfulness of reviews."
   ]
  },
  {
   "cell_type": "code",
   "execution_count": 11,
   "metadata": {},
   "outputs": [
    {
     "data": {
      "image/png": "[encoded data removed]",
      "text/plain": [
       "<matplotlib.figure.Figure at 0x12c8e10>"
      ]
     },
     "metadata": {},
     "output_type": "display_data"
    }
   ],
   "source": [
    "sns.barplot(x='help',y='words', data=reviews)\n",
    "plt.show()"
   ]
  },
  {
   "cell_type": "code",
   "execution_count": 12,
   "metadata": {},
   "outputs": [
    {
     "data": {
      "image/png": "[encoded data removed]",
      "text/plain": [
       "<matplotlib.figure.Figure at 0x2b65d668>"
      ]
     },
     "metadata": {},
     "output_type": "display_data"
    }
   ],
   "source": [
    "sns.violinplot(x=reviews['help'],y=reviews['words'])\n",
    "plt.show()"
   ]
  },
  {
   "cell_type": "markdown",
   "metadata": {
    "collapsed": true
   },
   "source": [
    "Despite being more common and shorter, positive reviews are found more helpful.\n",
    "We can show this by plotting a graph   helpfulness ratio for both positive and negative classes."
   ]
  },
  {
   "cell_type": "code",
   "execution_count": 13,
   "metadata": {},
   "outputs": [
    {
     "data": {
      "image/png": "[encoded data removed]",
      "text/plain": [
       "<matplotlib.figure.Figure at 0x33917b00>"
      ]
     },
     "metadata": {},
     "output_type": "display_data"
    }
   ],
   "source": [
    "sns.barplot(x='Score',y='hratio', data=reviews)\n",
    "plt.show()"
   ]
  },
  {
   "cell_type": "code",
   "execution_count": 14,
   "metadata": {},
   "outputs": [
    {
     "data": {
      "image/png": "[encoded data removed]",
      "text/plain": [
       "<matplotlib.figure.Figure at 0x14681fd0>"
      ]
     },
     "metadata": {},
     "output_type": "display_data"
    }
   ],
   "source": [
    "reviews1 = pd.read_sql_query(\"\"\"SELECT COUNT(Id) AS percent_reviews,Score FROM Reviews GROUP BY\n",
    "                                UserId HAVING COUNT(UserId)>50\"\"\", sqlobject)\n",
    "#print reviews1\n",
    "sns.barplot(x='Score',y='percent_reviews',data=reviews1)\n",
    "plt.show()"
   ]
  },
  {
   "cell_type": "markdown",
   "metadata": {
    "collapsed": true
   },
   "source": [
    "Now we create a new dataframe which has class for each review, summary and text for each review."
   ]
  },
  {
   "cell_type": "code",
   "execution_count": 15,
   "metadata": {},
   "outputs": [
    {
     "name": "stdout",
     "output_type": "stream",
     "text": [
      "(568454, 4)\n"
     ]
    }
   ],
   "source": [
    "new=pd.DataFrame(\n",
    "{\n",
    "    \"stars\":reviews['stars'],\n",
    "    \"class\":reviews['Score'],\n",
    "    \"summary\":reviews['Summary'],\n",
    "    \"text\":reviews['Text']\n",
    "})\n",
    "print new.shape"
   ]
  },
  {
   "cell_type": "code",
   "execution_count": null,
   "metadata": {
    "collapsed": true
   },
   "outputs": [],
   "source": [
    "import nltk\n",
    "nltk.download()"
   ]
  },
  {
   "cell_type": "markdown",
   "metadata": {},
   "source": [
    "# Cleaning the data\n",
    "\n",
    " Here we are preprocessing the data and removing unnecessary details.\n",
    " We do following steps:\n",
    " <pre>\n",
    "    1)  Remove all HTML tags using Beautifulsoup.\n",
    "    2)  Combine both summary and text.\n",
    "    3)  Convert entire data to lower case.\n",
    "    4)  Remove all other symbols except alphabets and numbers.\n",
    "    5)  Remove all stop words.\n",
    "    6)  Stem the entire data.\n",
    " </pre>"
   ]
  },
  {
   "cell_type": "markdown",
   "metadata": {},
   "source": [
    "We use nltk library for preprocessing the text. We store all stop words of English language in a set."
   ]
  },
  {
   "cell_type": "code",
   "execution_count": 16,
   "metadata": {
    "collapsed": true
   },
   "outputs": [],
   "source": [
    "import scipy\n",
    "import nltk\n",
    "import string\n",
    "from nltk.corpus import stopwords\n",
    "from nltk.tokenize import word_tokenize\n",
    "from bs4 import BeautifulSoup\n",
    "stop_words = set(stopwords.words('english'))"
   ]
  },
  {
   "cell_type": "markdown",
   "metadata": {},
   "source": [
    "Using beautifulsoup we are removing the HTML tags present in the data."
   ]
  },
  {
   "cell_type": "code",
   "execution_count": 17,
   "metadata": {},
   "outputs": [
    {
     "name": "stdout",
     "output_type": "stream",
     "text": [
      "0    I have bought several of the Vitality canned d...\n",
      "1    Product arrived labeled as Jumbo Salted Peanut...\n",
      "2    This is a confection that has been around a fe...\n",
      "3    If you are looking for the secret ingredient i...\n",
      "4    Great taffy at a great price.  There was a wid...\n",
      "Name: text, dtype: object\n"
     ]
    }
   ],
   "source": [
    "text=new['text']\n",
    "rev=np.empty(len(new),dtype=object)\n",
    "for i in range(len(new)):\n",
    "    soup=BeautifulSoup(text[i], 'html.parser')\n",
    "    rev[i]=soup\n",
    "new['text']=rev\n",
    "print new['text'].head()"
   ]
  },
  {
   "cell_type": "code",
   "execution_count": 18,
   "metadata": {
    "collapsed": true
   },
   "outputs": [],
   "source": [
    "from nltk.stem import PorterStemmer\n",
    "from nltk.tokenize import sent_tokenize, word_tokenize\n",
    "ps = PorterStemmer()\n",
    "#lemmatizer = nltk.WordNetLemmatizer()"
   ]
  },
  {
   "cell_type": "markdown",
   "metadata": {},
   "source": [
    "Splitting the data into train and test.\n",
    "<pre>\n",
    "     Train data - 70% of data\n",
    "     Test data  - 30% of data\n",
    "</pre>"
   ]
  },
  {
   "cell_type": "code",
   "execution_count": 19,
   "metadata": {},
   "outputs": [
    {
     "name": "stdout",
     "output_type": "stream",
     "text": [
      "(397917, 4)\n",
      "(170537, 4)\n"
     ]
    }
   ],
   "source": [
    "from sklearn.model_selection import train_test_split\n",
    "train, test = train_test_split(new, test_size = 0.3)\n",
    "print train.shape\n",
    "print test.shape"
   ]
  },
  {
   "cell_type": "code",
   "execution_count": 20,
   "metadata": {
    "collapsed": true
   },
   "outputs": [],
   "source": [
    "def cleaning(text):\n",
    "    text=text.lower()\n",
    "    text=text.split()\n",
    "    tmp=[]\n",
    "    for word in text:\n",
    "        if word.isalnum():\n",
    "            stem_word=ps.stem(word)\n",
    "            if stem_word not in stop_words:\n",
    "                tmp.append(stem_word)\n",
    "    return ' '.join(tmp)"
   ]
  },
  {
   "cell_type": "markdown",
   "metadata": {},
   "source": [
    "We construct bag_of_words for train data."
   ]
  },
  {
   "cell_type": "code",
   "execution_count": 21,
   "metadata": {
    "collapsed": true
   },
   "outputs": [],
   "source": [
    "train_bag=[]\n",
    "summ=train['summary']\n",
    "text=train['text']\n",
    "train_length=len(train)\n",
    "index= summ.index\n",
    "for i in range(train_length):\n",
    "    j=index[i]\n",
    "    s1=summ[j].encode('utf-8')\n",
    "    s2=text[j].encode('utf-8')\n",
    "    txt=s1+\" \"+s2\n",
    "    txt=cleaning(txt)\n",
    "    train_bag.append(txt)"
   ]
  },
  {
   "cell_type": "code",
   "execution_count": 22,
   "metadata": {},
   "outputs": [
    {
     "name": "stdout",
     "output_type": "stream",
     "text": [
      "397917\n"
     ]
    }
   ],
   "source": [
    "print len(train_bag)"
   ]
  },
  {
   "cell_type": "markdown",
   "metadata": {},
   "source": [
    "We are constructing bag_of_words for test data."
   ]
  },
  {
   "cell_type": "code",
   "execution_count": 23,
   "metadata": {
    "collapsed": true
   },
   "outputs": [],
   "source": [
    "test_bag=[]\n",
    "summ=test['summary']\n",
    "text=test['text']\n",
    "test_length=len(test)\n",
    "index= summ.index\n",
    "for i in range(test_length):\n",
    "    j=index[i]\n",
    "    s1=summ[j].encode('utf-8')\n",
    "    s2=text[j].encode('utf-8')\n",
    "    txt=s1+\" \"+s2\n",
    "    txt=cleaning(txt)\n",
    "    test_bag.append(txt)"
   ]
  },
  {
   "cell_type": "code",
   "execution_count": 24,
   "metadata": {},
   "outputs": [
    {
     "name": "stdout",
     "output_type": "stream",
     "text": [
      "170537\n"
     ]
    }
   ],
   "source": [
    "print len(test_bag)"
   ]
  },
  {
   "cell_type": "code",
   "execution_count": 25,
   "metadata": {},
   "outputs": [
    {
     "name": "stdout",
     "output_type": "stream",
     "text": [
      "  (0, 23715)\t0.0714866764278\n",
      "  (0, 48542)\t0.177148775795\n",
      "  (0, 7575)\t0.147494141584\n",
      "  (0, 46451)\t0.628566843065\n",
      "  (0, 11267)\t0.205857108584\n",
      "  (0, 32984)\t0.103339783146\n",
      "  (0, 19839)\t0.216700977953\n",
      "  (0, 29481)\t0.056166364259\n",
      "  (0, 6865)\t0.0759804386208\n",
      "  (0, 46132)\t0.35107089753\n",
      "  (0, 24427)\t0.0916530995239\n",
      "  (0, 56135)\t0.150941849759\n",
      "  (0, 55787)\t0.0747682391909\n",
      "  (0, 24681)\t0.0626922644448\n",
      "  (0, 32036)\t0.127023833266\n",
      "  (0, 36256)\t0.0759844458438\n",
      "  (0, 13316)\t0.0700288674697\n",
      "  (0, 6659)\t0.0477657363272\n",
      "  (0, 37274)\t0.0446883480033\n",
      "  (0, 42062)\t0.0597482731096\n",
      "  (0, 31010)\t0.0475103135836\n",
      "  (0, 7517)\t0.0566136147079\n",
      "  (0, 18501)\t0.0622633634383\n",
      "  (0, 4358)\t0.050467965964\n",
      "  (0, 22901)\t0.223406182774\n",
      "  :\t:\n",
      "  (397915, 47317)\t0.19858120042\n",
      "  (397915, 40268)\t0.173463898431\n",
      "  (397915, 47632)\t0.162247603615\n",
      "  (397915, 3978)\t0.134546922303\n",
      "  (397915, 47778)\t0.13921897262\n",
      "  (397915, 39814)\t0.507469321314\n",
      "  (397915, 19628)\t0.139854910974\n",
      "  (397915, 28644)\t0.179993495252\n",
      "  (397915, 45876)\t0.220626912228\n",
      "  (397915, 24293)\t0.169867292103\n",
      "  (397915, 9869)\t0.202658192148\n",
      "  (397915, 18566)\t0.218939256297\n",
      "  (397915, 2363)\t0.241242763023\n",
      "  (397916, 23715)\t0.135531335419\n",
      "  (397916, 37274)\t0.169448959868\n",
      "  (397916, 41134)\t0.237365557963\n",
      "  (397916, 53477)\t0.300376245189\n",
      "  (397916, 23268)\t0.136719171\n",
      "  (397916, 50752)\t0.288959150092\n",
      "  (397916, 56661)\t0.23328943898\n",
      "  (397916, 3843)\t0.186950801312\n",
      "  (397916, 52755)\t0.356200086885\n",
      "  (397916, 58826)\t0.376910622686\n",
      "  (397916, 14787)\t0.401071482685\n",
      "  (397916, 51513)\t0.430101697431\n"
     ]
    }
   ],
   "source": [
    "from sklearn.feature_extraction.text import TfidfTransformer\n",
    "from sklearn.feature_extraction.text import CountVectorizer\n",
    "\n",
    "cvec=CountVectorizer(lowercase=False)\n",
    "train_counts = cvec.fit_transform(train_bag)        \n",
    "\n",
    "tfidf = TfidfTransformer()\n",
    "train_tfidf = tfidf.fit_transform(train_counts)\n",
    "print train_tfidf"
   ]
  },
  {
   "cell_type": "code",
   "execution_count": 26,
   "metadata": {
    "collapsed": true
   },
   "outputs": [],
   "source": [
    "test_counts = cvec.transform(test_bag)\n",
    "test_tfidf = tfidf.transform(test_counts)"
   ]
  },
  {
   "cell_type": "markdown",
   "metadata": {},
   "source": [
    "# Bernoulli Naive Bayes"
   ]
  },
  {
   "cell_type": "code",
   "execution_count": 27,
   "metadata": {
    "collapsed": true
   },
   "outputs": [],
   "source": [
    "prediction = dict()\n",
    "from sklearn.naive_bayes import BernoulliNB\n",
    "model = BernoulliNB().fit(train_tfidf, train['class'])\n",
    "prediction['Bernoulli'] = model.predict(test_tfidf)"
   ]
  },
  {
   "cell_type": "code",
   "execution_count": 28,
   "metadata": {},
   "outputs": [
    {
     "name": "stdout",
     "output_type": "stream",
     "text": [
      "[('Bernoulli', array(['p', 'p', 'p', ..., 'p', 'p', 'n'], \n",
      "      dtype='|S1'))]\n"
     ]
    }
   ],
   "source": [
    "print prediction.items()"
   ]
  },
  {
   "cell_type": "markdown",
   "metadata": {},
   "source": [
    "# ROC for Bernoulli Naive Bayes"
   ]
  },
  {
   "cell_type": "code",
   "execution_count": 29,
   "metadata": {},
   "outputs": [
    {
     "data": {
      "image/png": "[encoded data removed]",
      "text/plain": [
       "<matplotlib.figure.Figure at 0x17bf9dc88>"
      ]
     },
     "metadata": {},
     "output_type": "display_data"
    }
   ],
   "source": [
    "from sklearn.metrics import roc_curve, auc\n",
    "def change(x):\n",
    "    if x == 'n':\n",
    "        return 0\n",
    "    return 1\n",
    "\n",
    "predict = prediction['Bernoulli']\n",
    "p=np.vectorize(change)\n",
    "#print type(p)\n",
    "fpr, tpr, thresholds = roc_curve(test['class'].map(change),p(predict))\n",
    "roc_auc = auc(fpr, tpr)\n",
    "plt.plot(fpr, tpr, 'b', label='BernoulliNB: AUC %0.2f'% (roc_auc))\n",
    "\n",
    "plt.title('ROC for Bernoulli NB')\n",
    "plt.legend(loc='lower right')\n",
    "plt.plot([0,1],[0,1],'r--')\n",
    "plt.xlim([-0.1,1.2])\n",
    "plt.ylim([-0.1,1.2])\n",
    "plt.ylabel('True Positive Rate')\n",
    "plt.xlabel('False Positive Rate')\n",
    "plt.show()"
   ]
  },
  {
   "cell_type": "markdown",
   "metadata": {},
   "source": [
    "# Precision, Recall for BernoulliNB"
   ]
  },
  {
   "cell_type": "code",
   "execution_count": 30,
   "metadata": {},
   "outputs": [
    {
     "name": "stdout",
     "output_type": "stream",
     "text": [
      "             precision    recall  f1-score   support\n",
      "\n",
      "   positive       0.63      0.58      0.60     37463\n",
      "   negative       0.88      0.90      0.89    133074\n",
      "\n",
      "avg / total       0.83      0.83      0.83    170537\n",
      "\n"
     ]
    }
   ],
   "source": [
    "from sklearn import metrics\n",
    "m=metrics.classification_report(test['class'], prediction['Bernoulli'], target_names = [\"positive\", \"negative\"])\n",
    "print(m)"
   ]
  },
  {
   "cell_type": "markdown",
   "metadata": {},
   "source": [
    "# Confusion Matrix"
   ]
  },
  {
   "cell_type": "code",
   "execution_count": 31,
   "metadata": {},
   "outputs": [
    {
     "data": {
      "image/png": "[encoded data removed]",
      "text/plain": [
       "<matplotlib.figure.Figure at 0x313b75c0>"
      ]
     },
     "metadata": {},
     "output_type": "display_data"
    },
    {
     "name": "stdout",
     "output_type": "stream",
     "text": [
      "True Positives:21661\n",
      "False Positives:15802\n",
      "False Negatives:12833\n",
      "True Negatives:120241\n"
     ]
    }
   ],
   "source": [
    "from sklearn.metrics import confusion_matrix\n",
    "import itertools\n",
    "def plot_cm(cm, title='Confusion matrix', cmap=plt.cm.Blues):\n",
    "    plt.imshow(cm, interpolation='nearest', cmap=cmap)\n",
    "    plt.title(title)\n",
    "    plt.colorbar()\n",
    "    tick_marks = np.arange(len(set(new['class'])))\n",
    "    plt.xticks(tick_marks,set(new['class']))\n",
    "    plt.yticks(tick_marks,set(new['class']))\n",
    "    plt.ylabel('True label')\n",
    "    plt.xlabel('Predicted label')\n",
    "    fmt = 'd'\n",
    "    thresh = cm.max() / 2.0\n",
    "    for i, j in itertools.product(range(cm.shape[0]), range(cm.shape[1])):\n",
    "        plt.text(j, i, format(cm[i, j], fmt),horizontalalignment=\"center\",color=\"white\" if cm[i, j] > thresh else \"black\")\n",
    "    \n",
    "    \n",
    "cm = confusion_matrix(test['class'], prediction['Bernoulli'])\n",
    "np.set_printoptions(precision=3)\n",
    "plt.figure()\n",
    "plot_cm(cm) \n",
    "plt.show()\n",
    "print \"True Positives:%d\"%cm[0][0]\n",
    "print \"False Positives:%d\"%cm[0][1]\n",
    "print \"False Negatives:%d\"%cm[1][0]\n",
    "print \"True Negatives:%d\"%cm[1][1]"
   ]
  },
  {
   "cell_type": "markdown",
   "metadata": {},
   "source": [
    "# Accuracy and Log-loss"
   ]
  },
  {
   "cell_type": "code",
   "execution_count": 32,
   "metadata": {},
   "outputs": [
    {
     "name": "stdout",
     "output_type": "stream",
     "text": [
      "Log-loss:5.799507\n",
      "Accuracy:0.83\n"
     ]
    }
   ],
   "source": [
    "from sklearn.metrics import log_loss\n",
    "from sklearn.metrics import accuracy_score\n",
    "p=np.vectorize(change)\n",
    "ll=log_loss(test['class'].map(change),p(prediction['Bernoulli']))\n",
    "print (\"Log-loss:%f\"%ll)\n",
    "print(\"Accuracy:%.2f\"%(accuracy_score(test['class'],prediction['Bernoulli'])))"
   ]
  },
  {
   "cell_type": "markdown",
   "metadata": {},
   "source": [
    "# Multinomial Naive Bayes"
   ]
  },
  {
   "cell_type": "code",
   "execution_count": 33,
   "metadata": {
    "collapsed": true
   },
   "outputs": [],
   "source": [
    "prediction = dict()\n",
    "from sklearn.naive_bayes import MultinomialNB\n",
    "model = MultinomialNB().fit(train_tfidf, train['class'])\n",
    "prediction['Multinomial'] = model.predict(test_tfidf)"
   ]
  },
  {
   "cell_type": "markdown",
   "metadata": {},
   "source": [
    "# ROC for Multinomial NB"
   ]
  },
  {
   "cell_type": "code",
   "execution_count": 34,
   "metadata": {},
   "outputs": [
    {
     "data": {
      "image/png": "[encoded data removed]",
      "text/plain": [
       "<matplotlib.figure.Figure at 0x17bf9d208>"
      ]
     },
     "metadata": {},
     "output_type": "display_data"
    }
   ],
   "source": [
    "predict = prediction['Multinomial']\n",
    "p=np.vectorize(change)\n",
    "#print type(p)\n",
    "fpr, tpr, thresholds = roc_curve(test['class'].map(change),p(predict))\n",
    "roc_auc = auc(fpr, tpr)\n",
    "plt.plot(fpr, tpr, 'b', label='MultinomialNB: AUC %0.2f'% (roc_auc))\n",
    "\n",
    "plt.title('ROC for Multinomial NB')\n",
    "plt.legend(loc='lower right')\n",
    "plt.plot([0,1],[0,1],'r--')\n",
    "plt.xlim([-0.1,1.2])\n",
    "plt.ylim([-0.1,1.2])\n",
    "plt.ylabel('True Positive Rate')\n",
    "plt.xlabel('False Positive Rate')\n",
    "plt.show()"
   ]
  },
  {
   "cell_type": "markdown",
   "metadata": {},
   "source": [
    "# Precision, Recall for Multinomial NB"
   ]
  },
  {
   "cell_type": "code",
   "execution_count": 35,
   "metadata": {},
   "outputs": [
    {
     "name": "stdout",
     "output_type": "stream",
     "text": [
      "             precision    recall  f1-score   support\n",
      "\n",
      "   positive       0.91      0.22      0.35     37463\n",
      "   negative       0.82      0.99      0.90    133074\n",
      "\n",
      "avg / total       0.84      0.82      0.78    170537\n",
      "\n"
     ]
    }
   ],
   "source": [
    "m=metrics.classification_report(test['class'], prediction['Multinomial'], target_names = [\"positive\", \"negative\"])\n",
    "print(m)"
   ]
  },
  {
   "cell_type": "markdown",
   "metadata": {},
   "source": [
    "# Confusion matrix"
   ]
  },
  {
   "cell_type": "code",
   "execution_count": 36,
   "metadata": {},
   "outputs": [
    {
     "data": {
      "image/png": "[encoded data removed]",
      "text/plain": [
       "<matplotlib.figure.Figure at 0x17bf2d128>"
      ]
     },
     "metadata": {},
     "output_type": "display_data"
    },
    {
     "name": "stdout",
     "output_type": "stream",
     "text": [
      "True Positives:8055\n",
      "False Positives:29408\n",
      "False Negatives:753\n",
      "True Negatives:132321\n"
     ]
    }
   ],
   "source": [
    "cm = confusion_matrix(test['class'], prediction['Multinomial'])\n",
    "np.set_printoptions(precision=3)\n",
    "plt.figure()\n",
    "plot_cm(cm) \n",
    "plt.show()\n",
    "print \"True Positives:%d\"%cm[0][0]\n",
    "print \"False Positives:%d\"%cm[0][1]\n",
    "print \"False Negatives:%d\"%cm[1][0]\n",
    "print \"True Negatives:%d\"%cm[1][1]"
   ]
  },
  {
   "cell_type": "markdown",
   "metadata": {},
   "source": [
    "# Accuracy and Log-loss"
   ]
  },
  {
   "cell_type": "code",
   "execution_count": 37,
   "metadata": {},
   "outputs": [
    {
     "name": "stdout",
     "output_type": "stream",
     "text": [
      "Log-loss:6.108631\n",
      "Accuracy:0.82\n"
     ]
    }
   ],
   "source": [
    "p=np.vectorize(change)\n",
    "ll=log_loss(test['class'].map(change),p(prediction['Multinomial']))\n",
    "print (\"Log-loss:%f\"%ll)\n",
    "print(\"Accuracy:%.2f\"%(accuracy_score(test['class'],prediction['Multinomial'])))"
   ]
  },
  {
   "cell_type": "markdown",
   "metadata": {},
   "source": [
    "# Logistic Regression"
   ]
  },
  {
   "cell_type": "markdown",
   "metadata": {},
   "source": [
    "# Grid Search for Parameter 'C'"
   ]
  },
  {
   "cell_type": "code",
   "execution_count": 38,
   "metadata": {},
   "outputs": [
    {
     "name": "stderr",
     "output_type": "stream",
     "text": [
      "F:\\anaconda\\lib\\site-packages\\sklearn\\cross_validation.py:44: DeprecationWarning: This module was deprecated in version 0.18 in favor of the model_selection module into which all the refactored classes and functions are moved. Also note that the interface of the new CV iterators are different from that of this module. This module will be removed in 0.20.\n",
      "  \"This module will be removed in 0.20.\", DeprecationWarning)\n",
      "F:\\anaconda\\lib\\site-packages\\sklearn\\grid_search.py:43: DeprecationWarning: This module was deprecated in version 0.18 in favor of the model_selection module into which all the refactored classes and functions are moved. This module will be removed in 0.20.\n",
      "  DeprecationWarning)\n"
     ]
    },
    {
     "name": "stdout",
     "output_type": "stream",
     "text": [
      "{'C': 10}\n"
     ]
    }
   ],
   "source": [
    "from sklearn.grid_search import GridSearchCV\n",
    "from sklearn import linear_model\n",
    "#c_space = {0.001, 0.01, 0.1, 1,10, 100, 1000, 10000}\n",
    "param_grid = {'C': [0.001, 0.01, 0.1, 1,10, 100, 1000, 10000]}\n",
    "logreg = linear_model.LogisticRegression(penalty='l2')\n",
    "logreg_cv = GridSearchCV(logreg, param_grid, cv=3)\n",
    "x=logreg_cv.fit(train_tfidf, train['class'])\n",
    "\n",
    "print x.best_params_\n",
    "#param_grid = {'C': [0.001, 0.01, 0.1, 1, 10, 100, 1000] }\n",
    "#>>> clf = GridSearchCV(LogisticRegression(penalty='l2'), param_grid)\n",
    "#GridSearchCV(cv=None,\n",
    " #            estimator=LogisticRegression(C=1.0, intercept_scaling=1,   \n",
    "  #             dual=False, fit_intercept=True, penalty='l2', tol=0.0001),\n",
    "   #          param_grid={'C': [0.001, 0.01, 0.1, 1, 10, 100, 1000]})"
   ]
  },
  {
   "cell_type": "code",
   "execution_count": 39,
   "metadata": {
    "collapsed": true
   },
   "outputs": [],
   "source": [
    "prediction['Logistic'] = logreg_cv.predict(test_tfidf)"
   ]
  },
  {
   "cell_type": "markdown",
   "metadata": {
    "collapsed": true
   },
   "source": [
    "# ROC for Logistic Regression on L2"
   ]
  },
  {
   "cell_type": "code",
   "execution_count": 40,
   "metadata": {},
   "outputs": [
    {
     "data": {
      "image/png": "[encoded data removed]",
      "text/plain": [
       "<matplotlib.figure.Figure at 0x180e05dd8>"
      ]
     },
     "metadata": {},
     "output_type": "display_data"
    }
   ],
   "source": [
    "predict = prediction['Logistic']\n",
    "p=np.vectorize(change)\n",
    "#print type(p)\n",
    "fpr, tpr, thresholds = roc_curve(test['class'].map(change),p(predict))\n",
    "roc_auc = auc(fpr, tpr)\n",
    "plt.plot(fpr, tpr, 'g', label='Logistic: AUC %0.2f'% (roc_auc))\n",
    "\n",
    "plt.title('ROC for Logistic')\n",
    "plt.legend(loc='lower right')\n",
    "plt.plot([0,1],[0,1],'r--')\n",
    "plt.xlim([-0.1,1.2])\n",
    "plt.ylim([-0.1,1.2])\n",
    "plt.ylabel('True Positive Rate')\n",
    "plt.xlabel('False Positive Rate')\n",
    "plt.show()"
   ]
  },
  {
   "cell_type": "markdown",
   "metadata": {},
   "source": [
    "# Precision, Recall for Logistic Regression on L2"
   ]
  },
  {
   "cell_type": "code",
   "execution_count": 41,
   "metadata": {},
   "outputs": [
    {
     "name": "stdout",
     "output_type": "stream",
     "text": [
      "             precision    recall  f1-score   support\n",
      "\n",
      "   positive       0.81      0.70      0.75     37463\n",
      "   negative       0.92      0.95      0.94    133074\n",
      "\n",
      "avg / total       0.90      0.90      0.90    170537\n",
      "\n"
     ]
    }
   ],
   "source": [
    "from sklearn import metrics\n",
    "m=metrics.classification_report(test['class'], prediction['Logistic'], target_names = [\"positive\", \"negative\"])\n",
    "print(m)"
   ]
  },
  {
   "cell_type": "markdown",
   "metadata": {},
   "source": [
    "# Confusion Matrix"
   ]
  },
  {
   "cell_type": "code",
   "execution_count": 42,
   "metadata": {},
   "outputs": [
    {
     "data": {
      "image/png": "[encoded data removed]",
      "text/plain": [
       "<matplotlib.figure.Figure at 0x1a17b56d8>"
      ]
     },
     "metadata": {},
     "output_type": "display_data"
    },
    {
     "name": "stdout",
     "output_type": "stream",
     "text": [
      "True Positives:26320\n",
      "False Positives:11143\n",
      "False Negatives:6181\n",
      "True Negatives:126893\n"
     ]
    }
   ],
   "source": [
    "cm = confusion_matrix(test['class'], prediction['Logistic'])\n",
    "np.set_printoptions(precision=3)\n",
    "plt.figure()\n",
    "plot_cm(cm) \n",
    "plt.show()\n",
    "print \"True Positives:%d\"%cm[0][0]\n",
    "print \"False Positives:%d\"%cm[0][1]\n",
    "print \"False Negatives:%d\"%cm[1][0]\n",
    "print \"True Negatives:%d\"%cm[1][1]"
   ]
  },
  {
   "cell_type": "markdown",
   "metadata": {},
   "source": [
    "# Accuracy and Log-loss"
   ]
  },
  {
   "cell_type": "code",
   "execution_count": 43,
   "metadata": {},
   "outputs": [
    {
     "name": "stdout",
     "output_type": "stream",
     "text": [
      "Log-loss:3.508674\n",
      "Accuracy:0.90\n"
     ]
    }
   ],
   "source": [
    "p=np.vectorize(change)\n",
    "ll=log_loss(test['class'].map(change),p(prediction['Logistic']))\n",
    "print (\"Log-loss:%f\"%ll)\n",
    "print(\"Accuracy:%.2f\"%(accuracy_score(test['class'],prediction['Logistic'])))"
   ]
  },
  {
   "cell_type": "markdown",
   "metadata": {
    "collapsed": true
   },
   "source": [
    "# Grid Search for Logistic Regression on L1"
   ]
  },
  {
   "cell_type": "code",
   "execution_count": 44,
   "metadata": {},
   "outputs": [
    {
     "name": "stdout",
     "output_type": "stream",
     "text": [
      "{'C': 10}\n"
     ]
    }
   ],
   "source": [
    "param_grid = {'C': [0.001, 0.01, 0.1, 1,10, 100, 1000, 10000]}\n",
    "logreg = linear_model.LogisticRegression(penalty='l1')\n",
    "logreg_cv = GridSearchCV(logreg, param_grid, cv=3)\n",
    "x=logreg_cv.fit(train_tfidf, train['class'])\n",
    "print x.best_params_"
   ]
  },
  {
   "cell_type": "code",
   "execution_count": 45,
   "metadata": {
    "collapsed": true
   },
   "outputs": [],
   "source": [
    "prediction['Logistic1'] = logreg_cv.predict(test_tfidf)"
   ]
  },
  {
   "cell_type": "markdown",
   "metadata": {},
   "source": [
    "# ROC for Logistic Regression on L1"
   ]
  },
  {
   "cell_type": "code",
   "execution_count": 46,
   "metadata": {},
   "outputs": [
    {
     "data": {
      "image/png": "[encoded data removed]",
      "text/plain": [
       "<matplotlib.figure.Figure at 0x193bf81d0>"
      ]
     },
     "metadata": {},
     "output_type": "display_data"
    }
   ],
   "source": [
    "predict = prediction['Logistic1']\n",
    "p=np.vectorize(change)\n",
    "#print type(p)\n",
    "fpr, tpr, thresholds = roc_curve(test['class'].map(change),p(predict))\n",
    "roc_auc = auc(fpr, tpr)\n",
    "plt.plot(fpr, tpr, 'm', label='Logistic L1: AUC %0.2f'% (roc_auc))\n",
    "\n",
    "plt.title('ROC for Logistic')\n",
    "plt.legend(loc='lower right')\n",
    "plt.plot([0,1],[0,1],'r--')\n",
    "plt.xlim([-0.1,1.2])\n",
    "plt.ylim([-0.1,1.2])\n",
    "plt.ylabel('True Positive Rate')\n",
    "plt.xlabel('False Positive Rate')\n",
    "plt.show()"
   ]
  },
  {
   "cell_type": "markdown",
   "metadata": {},
   "source": [
    "# Precision, Recall for Logistic Regression on L1"
   ]
  },
  {
   "cell_type": "code",
   "execution_count": 47,
   "metadata": {},
   "outputs": [
    {
     "name": "stdout",
     "output_type": "stream",
     "text": [
      "             precision    recall  f1-score   support\n",
      "\n",
      "   positive       0.80      0.71      0.75     37463\n",
      "   negative       0.92      0.95      0.94    133074\n",
      "\n",
      "avg / total       0.90      0.90      0.90    170537\n",
      "\n"
     ]
    }
   ],
   "source": [
    "from sklearn import metrics\n",
    "m=metrics.classification_report(test['class'], prediction['Logistic1'], target_names = [\"positive\", \"negative\"])\n",
    "print(m)"
   ]
  },
  {
   "cell_type": "markdown",
   "metadata": {},
   "source": [
    "# Confusion matrix"
   ]
  },
  {
   "cell_type": "code",
   "execution_count": 48,
   "metadata": {},
   "outputs": [
    {
     "data": {
      "image/png": "[encoded data removed]",
      "text/plain": [
       "<matplotlib.figure.Figure at 0x17bf9d3c8>"
      ]
     },
     "metadata": {},
     "output_type": "display_data"
    },
    {
     "name": "stdout",
     "output_type": "stream",
     "text": [
      "True Positives:26631\n",
      "False Positives:10832\n",
      "False Negatives:6554\n",
      "True Negatives:126520\n"
     ]
    }
   ],
   "source": [
    "cm = confusion_matrix(test['class'], prediction['Logistic1'])\n",
    "np.set_printoptions(precision=3)\n",
    "plt.figure()\n",
    "plot_cm(cm) \n",
    "plt.show()\n",
    "print \"True Positives:%d\"%cm[0][0]\n",
    "print \"False Positives:%d\"%cm[0][1]\n",
    "print \"False Negatives:%d\"%cm[1][0]\n",
    "print \"True Negatives:%d\"%cm[1][1]"
   ]
  },
  {
   "cell_type": "markdown",
   "metadata": {},
   "source": [
    "# Accuracy and Log-loss"
   ]
  },
  {
   "cell_type": "code",
   "execution_count": 49,
   "metadata": {},
   "outputs": [
    {
     "name": "stdout",
     "output_type": "stream",
     "text": [
      "Log-loss:3.521229\n",
      "Accuracy:0.90\n"
     ]
    }
   ],
   "source": [
    "p=np.vectorize(change)\n",
    "ll=log_loss(test['class'].map(change),p(prediction['Logistic1']))\n",
    "print (\"Log-loss:%f\"%ll)\n",
    "print(\"Accuracy:%.2f\"%(accuracy_score(test['class'],prediction['Logistic1'])))"
   ]
  },
  {
   "cell_type": "markdown",
   "metadata": {},
   "source": [
    "# Top 100 Features"
   ]
  },
  {
   "cell_type": "code",
   "execution_count": 50,
   "metadata": {
    "collapsed": true
   },
   "outputs": [],
   "source": [
    "t = []\n",
    "for line in train_bag:\n",
    "    l = nltk.word_tokenize(line)\n",
    "    for w in l:\n",
    "        t.append(w)"
   ]
  },
  {
   "cell_type": "code",
   "execution_count": 51,
   "metadata": {},
   "outputs": [
    {
     "name": "stdout",
     "output_type": "stream",
     "text": [
      "59024\n"
     ]
    }
   ],
   "source": [
    "word_features = nltk.FreqDist(t)\n",
    "print (len(word_features))"
   ]
  },
  {
   "cell_type": "code",
   "execution_count": 52,
   "metadata": {},
   "outputs": [
    {
     "name": "stdout",
     "output_type": "stream",
     "text": [
      "[(u'thi', 458603), (u'wa', 220877), (u'like', 199350), (u'tast', 161824), (u'love', 151912), (u'great', 138492), (u'good', 136731), (u'veri', 124950), (u'one', 118124), (u'use', 117375), (u'flavor', 108840), (u'tri', 105122), (u'coffe', 98748), (u'get', 97911), (u'product', 95497), (u'ha', 92505), (u'make', 87131), (u'would', 86217), (u'tea', 85349), (u'food', 79446), (u'dog', 75223), (u'buy', 73283), (u'realli', 71861), (u'onli', 70154), (u'eat', 68887)]\n"
     ]
    }
   ],
   "source": [
    "topwords = [f[0] for f in list(word_features.most_common(5000))]\n",
    "print (word_features.most_common(25))"
   ]
  },
  {
   "cell_type": "code",
   "execution_count": 53,
   "metadata": {},
   "outputs": [
    {
     "name": "stdout",
     "output_type": "stream",
     "text": [
      "      words   count\n",
      "0       thi  458603\n",
      "1        wa  220877\n",
      "2      like  199350\n",
      "3      tast  161824\n",
      "4      love  151912\n",
      "5     great  138492\n",
      "6      good  136731\n",
      "7      veri  124950\n",
      "8       one  118124\n",
      "9       use  117375\n",
      "10   flavor  108840\n",
      "11      tri  105122\n",
      "12    coffe   98748\n",
      "13      get   97911\n",
      "14  product   95497\n",
      "15       ha   92505\n",
      "16     make   87131\n",
      "17    would   86217\n",
      "18      tea   85349\n",
      "19     food   79446\n",
      "20      dog   75223\n",
      "21      buy   73283\n",
      "22   realli   71861\n",
      "23     onli   70154\n",
      "24      eat   68887\n",
      "25     best   66000\n",
      "26    littl   60289\n",
      "27     much   59272\n",
      "28    order   59095\n",
      "29   becaus   58357\n",
      "..      ...     ...\n",
      "70      say   30742\n",
      "71      way   30663\n",
      "72    store   30419\n",
      "73     sinc   30010\n",
      "74    brand   29948\n",
      "75    enjoy   29829\n",
      "76     keep   29448\n",
      "77     come   29433\n",
      "78     take   29278\n",
      "79     year   29172\n",
      "80     seem   28891\n",
      "81   differ   28733\n",
      "82      lot   28556\n",
      "83  favorit   28542\n",
      "84     mani   28513\n",
      "85    never   27794\n",
      "86      doe   27693\n",
      "87    sugar   27659\n",
      "88    everi   27359\n",
      "89    thing   27071\n",
      "90      add   27034\n",
      "91      day   26839\n",
      "92   review   26385\n",
      "93  without   25852\n",
      "94    alway   25602\n",
      "95      hot   25558\n",
      "96   someth   25492\n",
      "97      put   25073\n",
      "98     chip   24234\n",
      "99    snack   23988\n",
      "\n",
      "[100 rows x 2 columns]\n"
     ]
    }
   ],
   "source": [
    "words = pd.DataFrame(word_features.most_common(100),columns=['words','count'])\n",
    "print (words)"
   ]
  },
  {
   "cell_type": "markdown",
   "metadata": {},
   "source": [
    "# Linear SVM\n",
    "To perform linear SVM we consider a subset of 20000 features out of all features."
   ]
  },
  {
   "cell_type": "code",
   "execution_count": 54,
   "metadata": {},
   "outputs": [
    {
     "name": "stdout",
     "output_type": "stream",
     "text": [
      "20000\n",
      "  (0, 6509)\t0.0720606313872\n",
      "  (0, 13436)\t0.179698444354\n",
      "  (0, 1948)\t0.145528864002\n",
      "  (0, 12793)\t0.627303788015\n",
      "  (0, 3023)\t0.203298781953\n",
      "  (0, 9067)\t0.103143739307\n",
      "  (0, 5423)\t0.220914613359\n",
      "  (0, 8111)\t0.0558582801068\n",
      "  (0, 1772)\t0.075888803734\n",
      "  (0, 12719)\t0.347363962329\n",
      "  (0, 6703)\t0.0939542364132\n",
      "  (0, 15573)\t0.14718557605\n",
      "  (0, 15460)\t0.0753318070211\n",
      "  (0, 6782)\t0.0630177797855\n",
      "  (0, 8813)\t0.126592430107\n",
      "  (0, 9916)\t0.0758120534615\n",
      "  (0, 3602)\t0.0709010456201\n",
      "  (0, 1715)\t0.0482239255927\n",
      "  (0, 10177)\t0.044728029985\n",
      "  (0, 11573)\t0.0596608450508\n",
      "  (0, 8541)\t0.0479372308048\n",
      "  (0, 1935)\t0.0573850302777\n",
      "  (0, 5057)\t0.0619820691301\n",
      "  (0, 1092)\t0.050761911363\n",
      "  (0, 6276)\t0.228364100206\n",
      "  :\t:\n",
      "  (19999, 8459)\t0.145072883983\n",
      "  (19999, 2463)\t0.0984132834862\n",
      "  (19999, 710)\t0.13329773502\n",
      "  (19999, 15731)\t0.124965309646\n",
      "  (19999, 5686)\t0.0919650944208\n",
      "  (19999, 6214)\t0.0906689575194\n",
      "  (19999, 11321)\t0.115773921813\n",
      "  (19999, 8393)\t0.138598755182\n",
      "  (19999, 11386)\t0.0948133302624\n",
      "  (19999, 5634)\t0.237598925576\n",
      "  (19999, 14518)\t0.159962991331\n",
      "  (19999, 1005)\t0.241299723269\n",
      "  (19999, 11539)\t0.124301234026\n",
      "  (19999, 8566)\t0.137720103355\n",
      "  (19999, 2216)\t0.181679471801\n",
      "  (19999, 6425)\t0.204533209196\n",
      "  (19999, 5925)\t0.141147221754\n",
      "  (19999, 9465)\t0.16159115632\n",
      "  (19999, 2131)\t0.470945520636\n",
      "  (19999, 14105)\t0.178697660284\n",
      "  (19999, 9259)\t0.18963454806\n",
      "  (19999, 5453)\t0.175534518201\n",
      "  (19999, 2545)\t0.15917693284\n",
      "  (19999, 13861)\t0.250782700287\n",
      "  (19999, 14703)\t0.267131837408\n",
      "20000\n"
     ]
    }
   ],
   "source": [
    "new_train=train_bag[:20000]\n",
    "new_test=test_bag[:6000]\n",
    "print len(new_train)\n",
    "\n",
    "train_counts2 = cvec.fit_transform(new_train)        \n",
    "\n",
    "train_tfidf2 = tfidf.fit_transform(train_counts2)\n",
    "print train_tfidf2\n",
    "tr=train['class'].head(20000)\n",
    "te=test['class'].head(6000)\n",
    "print len(tr)\n",
    "test_counts2 = cvec.transform(new_test)\n",
    "test_tfidf2 = tfidf.transform(test_counts2)"
   ]
  },
  {
   "cell_type": "markdown",
   "metadata": {},
   "source": [
    "# Determining 'C' using Grid search"
   ]
  },
  {
   "cell_type": "code",
   "execution_count": 55,
   "metadata": {},
   "outputs": [
    {
     "name": "stdout",
     "output_type": "stream",
     "text": [
      "{'C': 1}\n"
     ]
    }
   ],
   "source": [
    "from sklearn import svm\n",
    "param_grid = {'C': [ 1,10, 100, 1000,10000]}\n",
    "linear_svm = svm.LinearSVC()\n",
    "linear_svm_cv = GridSearchCV(linear_svm, param_grid, cv=3)\n",
    "x=linear_svm_cv.fit(train_tfidf2, tr)\n",
    "print x.best_params_"
   ]
  },
  {
   "cell_type": "code",
   "execution_count": 56,
   "metadata": {
    "collapsed": true
   },
   "outputs": [],
   "source": [
    "prediction['linearSVM'] = linear_svm_cv.predict(test_tfidf2)"
   ]
  },
  {
   "cell_type": "markdown",
   "metadata": {},
   "source": [
    "# ROC for Linear SVM"
   ]
  },
  {
   "cell_type": "code",
   "execution_count": 57,
   "metadata": {},
   "outputs": [
    {
     "data": {
      "image/png": "[encoded data removed]",
      "text/plain": [
       "<matplotlib.figure.Figure at 0x193bcd518>"
      ]
     },
     "metadata": {},
     "output_type": "display_data"
    }
   ],
   "source": [
    "predict = prediction['linearSVM']\n",
    "p=np.vectorize(change)\n",
    "#print type(p)\n",
    "fpr, tpr, thresholds = roc_curve(te.map(change),p(predict))\n",
    "roc_auc = auc(fpr, tpr)\n",
    "plt.plot(fpr, tpr, 'm', label='Linear SVM: AUC %0.2f'% (roc_auc))\n",
    "\n",
    "plt.title('ROC for Linear SVM')\n",
    "plt.legend(loc='lower right')\n",
    "plt.plot([0,1],[0,1],'r--')\n",
    "plt.xlim([-0.1,1.2])\n",
    "plt.ylim([-0.1,1.2])\n",
    "plt.ylabel('True Positive Rate')\n",
    "plt.xlabel('False Positive Rate')\n",
    "plt.show()"
   ]
  },
  {
   "cell_type": "markdown",
   "metadata": {},
   "source": [
    "# Precision, Recall for Linear SVM"
   ]
  },
  {
   "cell_type": "code",
   "execution_count": 58,
   "metadata": {},
   "outputs": [
    {
     "name": "stdout",
     "output_type": "stream",
     "text": [
      "             precision    recall  f1-score   support\n",
      "\n",
      "   positive       0.73      0.61      0.66      1283\n",
      "   negative       0.90      0.94      0.92      4717\n",
      "\n",
      "avg / total       0.86      0.87      0.86      6000\n",
      "\n"
     ]
    }
   ],
   "source": [
    "m=metrics.classification_report(te, prediction['linearSVM'], target_names = [\"positive\", \"negative\"])\n",
    "print(m)"
   ]
  },
  {
   "cell_type": "markdown",
   "metadata": {},
   "source": [
    "# Confusion matrix"
   ]
  },
  {
   "cell_type": "code",
   "execution_count": 59,
   "metadata": {},
   "outputs": [
    {
     "data": {
      "image/png": "[encoded data removed]",
      "text/plain": [
       "<matplotlib.figure.Figure at 0x17b7092e8>"
      ]
     },
     "metadata": {},
     "output_type": "display_data"
    },
    {
     "name": "stdout",
     "output_type": "stream",
     "text": [
      "True Positives:783\n",
      "False Positives:500\n",
      "False Negatives:290\n",
      "True Negatives:4427\n"
     ]
    }
   ],
   "source": [
    "cm = confusion_matrix(te, prediction['linearSVM'])\n",
    "np.set_printoptions(precision=3)\n",
    "plt.figure()\n",
    "plot_cm(cm) \n",
    "plt.show()\n",
    "print \"True Positives:%d\"%cm[0][0]\n",
    "print \"False Positives:%d\"%cm[0][1]\n",
    "print \"False Negatives:%d\"%cm[1][0]\n",
    "print \"True Negatives:%d\"%cm[1][1]"
   ]
  },
  {
   "cell_type": "markdown",
   "metadata": {},
   "source": [
    "# Accuracy and Log-loss"
   ]
  },
  {
   "cell_type": "code",
   "execution_count": 60,
   "metadata": {},
   "outputs": [
    {
     "name": "stdout",
     "output_type": "stream",
     "text": [
      "Log-loss:4.547672\n",
      "Accuracy:0.87\n"
     ]
    }
   ],
   "source": [
    "p=np.vectorize(change)\n",
    "ll=log_loss(te.map(change),p(prediction['linearSVM']))\n",
    "print (\"Log-loss:%f\"%ll)\n",
    "print(\"Accuracy:%.2f\"%(accuracy_score(te,prediction['linearSVM'])))"
   ]
  },
  {
   "cell_type": "markdown",
   "metadata": {},
   "source": [
    "# Kernel SVM\n",
    "We take a subset of 5000 features to perform kernel SVM"
   ]
  },
  {
   "cell_type": "code",
   "execution_count": 61,
   "metadata": {},
   "outputs": [
    {
     "name": "stdout",
     "output_type": "stream",
     "text": [
      "5000\n",
      "  (0, 3542)\t0.0743307640188\n",
      "  (0, 7280)\t0.185052082198\n",
      "  (0, 1007)\t0.145668704497\n",
      "  (0, 6921)\t0.606380481236\n",
      "  (0, 1588)\t0.211299433463\n",
      "  (0, 4889)\t0.103970031706\n",
      "  (0, 2923)\t0.211299433463\n",
      "  (0, 4371)\t0.056738010659\n",
      "  (0, 914)\t0.0803499027987\n",
      "  (0, 6879)\t0.360052316205\n",
      "  (0, 3640)\t0.0991856854355\n",
      "  (0, 8449)\t0.1406784483\n",
      "  (0, 8394)\t0.0772877246707\n",
      "  (0, 3680)\t0.0642887088549\n",
      "  (0, 4758)\t0.128954685326\n",
      "  (0, 5353)\t0.0786340264684\n",
      "  (0, 1910)\t0.0734099477198\n",
      "  (0, 881)\t0.0493795366857\n",
      "  (0, 5503)\t0.0463608004398\n",
      "  (0, 6259)\t0.06195452487\n",
      "  (0, 4610)\t0.0499612426448\n",
      "  (0, 1000)\t0.0591338490291\n",
      "  (0, 2714)\t0.0648268954125\n",
      "  (0, 559)\t0.0530085128371\n",
      "  (0, 3405)\t0.235416524084\n",
      "  :\t:\n",
      "  (4999, 3371)\t0.106259124871\n",
      "  (4999, 2435)\t0.0711570626657\n",
      "  (4999, 7217)\t0.105730841036\n",
      "  (4999, 4309)\t0.0754719284685\n",
      "  (4999, 8038)\t0.12034414559\n",
      "  (4999, 3630)\t0.0545068609247\n",
      "  (4999, 5803)\t0.0801677077646\n",
      "  (4999, 3441)\t0.0670646484848\n",
      "  (4999, 7882)\t0.0764183306057\n",
      "  (4999, 7083)\t0.0895912957886\n",
      "  (4999, 1815)\t0.10657016932\n",
      "  (4999, 5100)\t0.164905776667\n",
      "  (4999, 2726)\t0.104924872505\n",
      "  (4999, 507)\t0.0656491295496\n",
      "  (4999, 2723)\t0.141001625195\n",
      "  (4999, 1986)\t0.117217835337\n",
      "  (4999, 4088)\t0.224241919017\n",
      "  (4999, 803)\t0.243006736164\n",
      "  (4999, 6619)\t0.123376779592\n",
      "  (4999, 6527)\t0.28200325039\n",
      "  (4999, 1561)\t0.139498650875\n",
      "  (4999, 8780)\t0.148459404504\n",
      "  (4999, 4846)\t0.142624961128\n",
      "  (4999, 6695)\t0.160380230797\n",
      "  (4999, 6689)\t0.715853624497\n",
      "5000\n"
     ]
    }
   ],
   "source": [
    "new_train1=train_bag[:5000]\n",
    "new_test1=test_bag[:1000]\n",
    "print len(new_train1)\n",
    "\n",
    "train_counts3 = cvec.fit_transform(new_train1)        \n",
    "\n",
    "train_tfidf3 = tfidf.fit_transform(train_counts3)\n",
    "print train_tfidf3\n",
    "tr1=train['class'].head(5000)\n",
    "te1=test['class'].head(1000)\n",
    "print len(tr1)\n",
    "test_counts3 = cvec.transform(new_test1)\n",
    "test_tfidf3 = tfidf.transform(test_counts3)"
   ]
  },
  {
   "cell_type": "markdown",
   "metadata": {},
   "source": [
    "# Determing 'C' and 'gamma' for Kernel SVM"
   ]
  },
  {
   "cell_type": "code",
   "execution_count": 62,
   "metadata": {},
   "outputs": [
    {
     "name": "stdout",
     "output_type": "stream",
     "text": [
      "{'C': 10, 'gamma': 0.1}\n"
     ]
    }
   ],
   "source": [
    "param_grid = {'C': [ 1,10, 100, 1000,10000],'gamma':[1e-1,1e-2,1e-3,1e-4,1e-5]}\n",
    "kernel_svm = svm.SVC(kernel='rbf')\n",
    "kernel_svm_cv = GridSearchCV(kernel_svm, param_grid, cv=3)\n",
    "x=kernel_svm_cv.fit(train_tfidf3, tr1)\n",
    "print x.best_params_"
   ]
  },
  {
   "cell_type": "code",
   "execution_count": 63,
   "metadata": {
    "collapsed": true
   },
   "outputs": [],
   "source": [
    "prediction['rbfSVM'] = kernel_svm_cv.predict(test_tfidf3)"
   ]
  },
  {
   "cell_type": "markdown",
   "metadata": {},
   "source": [
    "# ROC for Kernel SVM"
   ]
  },
  {
   "cell_type": "code",
   "execution_count": 64,
   "metadata": {},
   "outputs": [
    {
     "data": {
      "image/png": "[encoded data removed]",
      "text/plain": [
       "<matplotlib.figure.Figure at 0x1a65d5cc0>"
      ]
     },
     "metadata": {},
     "output_type": "display_data"
    }
   ],
   "source": [
    "predict = prediction['rbfSVM']\n",
    "p=np.vectorize(change)\n",
    "#print type(p)\n",
    "fpr, tpr, thresholds = roc_curve(te1.map(change),p(predict))\n",
    "roc_auc = auc(fpr, tpr)\n",
    "plt.plot(fpr, tpr, 'm', label='Kernel SVM: AUC %0.2f'% (roc_auc))\n",
    "\n",
    "plt.title('ROC for Kernel SVM')\n",
    "plt.legend(loc='lower right')\n",
    "plt.plot([0,1],[0,1],'r--')\n",
    "plt.xlim([-0.1,1.2])\n",
    "plt.ylim([-0.1,1.2])\n",
    "plt.ylabel('True Positive Rate')\n",
    "plt.xlabel('False Positive Rate')\n",
    "plt.show()"
   ]
  },
  {
   "cell_type": "markdown",
   "metadata": {},
   "source": [
    "# Precision , Recall for Kernel SVM"
   ]
  },
  {
   "cell_type": "code",
   "execution_count": 65,
   "metadata": {},
   "outputs": [
    {
     "name": "stdout",
     "output_type": "stream",
     "text": [
      "             precision    recall  f1-score   support\n",
      "\n",
      "   positive       0.73      0.54      0.62       227\n",
      "   negative       0.87      0.94      0.91       773\n",
      "\n",
      "avg / total       0.84      0.85      0.84      1000\n",
      "\n"
     ]
    }
   ],
   "source": [
    "m=metrics.classification_report(te1, prediction['rbfSVM'], target_names = [\"positive\", \"negative\"])\n",
    "print(m)"
   ]
  },
  {
   "cell_type": "markdown",
   "metadata": {},
   "source": [
    "# Confusion matrix"
   ]
  },
  {
   "cell_type": "code",
   "execution_count": 66,
   "metadata": {},
   "outputs": [
    {
     "data": {
      "image/png": "[encoded data removed]",
      "text/plain": [
       "<matplotlib.figure.Figure at 0x1dfaf4a20>"
      ]
     },
     "metadata": {},
     "output_type": "display_data"
    },
    {
     "name": "stdout",
     "output_type": "stream",
     "text": [
      "True Positives:122\n",
      "False Positives:105\n",
      "False Negatives:46\n",
      "True Negatives:727\n"
     ]
    }
   ],
   "source": [
    "cm = confusion_matrix(te1, prediction['rbfSVM'])\n",
    "np.set_printoptions(precision=3)\n",
    "plt.figure()\n",
    "plot_cm(cm) \n",
    "plt.show()\n",
    "print \"True Positives:%d\"%cm[0][0]\n",
    "print \"False Positives:%d\"%cm[0][1]\n",
    "print \"False Negatives:%d\"%cm[1][0]\n",
    "print \"True Negatives:%d\"%cm[1][1]"
   ]
  },
  {
   "cell_type": "markdown",
   "metadata": {},
   "source": [
    "# Accuracy and Log-loss"
   ]
  },
  {
   "cell_type": "code",
   "execution_count": 67,
   "metadata": {},
   "outputs": [
    {
     "name": "stdout",
     "output_type": "stream",
     "text": [
      "Log-loss:5.215439\n",
      "Accuracy:0.85\n"
     ]
    }
   ],
   "source": [
    "p=np.vectorize(change)\n",
    "ll=log_loss(te1.map(change),p(prediction['rbfSVM']))\n",
    "print (\"Log-loss:%f\"%ll)\n",
    "print(\"Accuracy:%.2f\"%(accuracy_score(te1,prediction['rbfSVM'])))"
   ]
  }
 ],
 "metadata": {
  "kernelspec": {
   "display_name": "Python 2",
   "language": "python",
   "name": "python2"
  },
  "language_info": {
   "codemirror_mode": {
    "name": "ipython",
    "version": 2
   },
   "file_extension": ".py",
   "mimetype": "text/x-python",
   "name": "python",
   "nbconvert_exporter": "python",
   "pygments_lexer": "ipython2",
   "version": "2.7.13"
  }
 },
 "nbformat": 4,
 "nbformat_minor": 2
}
