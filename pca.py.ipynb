{
 "cells": [
  {
   "cell_type": "code",
   "execution_count": 10,
   "metadata": {},
   "outputs": [
    {
     "name": "stdout",
     "output_type": "stream",
     "text": [
      "(70000L, 784L)\n",
      "(70000L,)\n"
     ]
    }
   ],
   "source": [
    "import pandas as pd\n",
    "import numpy as np\n",
    "import sklearn.datasets as sk\n",
    "'''mnist=pd.read_csv(\"mnist_train.csv\")\n",
    "print mnist.shape\n",
    "print mnist'''\n",
    "mnist=sk.fetch_mldata('MNIST original')\n",
    "#print mnist.data\n",
    "x=mnist.data/255.0\n",
    "y=mnist.target\n",
    "print x.shape\n",
    "print y.shape"
   ]
  }
 ],
 "metadata": {
  "kernelspec": {
   "display_name": "Python 2",
   "language": "python",
   "name": "python2"
  },
  "language_info": {
   "codemirror_mode": {
    "name": "ipython",
    "version": 2
   },
   "file_extension": ".py",
   "mimetype": "text/x-python",
   "name": "python",
   "nbconvert_exporter": "python",
   "pygments_lexer": "ipython2",
   "version": "2.7.13"
  }
 },
 "nbformat": 4,
 "nbformat_minor": 2
}
