{
 "cells": [
  {
   "cell_type": "markdown",
   "metadata": {},
   "source": [
    " <pre>\n",
    "Q1.\n",
    "    a. Please download the data from <a href=\"http://archive.ics.uci.edu/ml/datasets/Liver+Disorders\">http://archive.ics.uci.edu/ml/datasets/Liver+Disorders </a>\n",
    "    b. Get to know about the features\n",
    "        i. given data set has 6 attributes and 1 output varaible\n",
    "    c. Find me the two most corelated feature out of 6 attributes with the output varaible\n",
    "    d. Prove that the features are correlated with output varaible using null hypothsis test\n",
    "        i.hint: consider 100 random samples from the data set and find out the correlation, repeat it for 50 times\n",
    "        </pre>"
   ]
  },
  {
   "cell_type": "code",
   "execution_count": 2,
   "metadata": {},
   "outputs": [
    {
     "name": "stdout",
     "output_type": "stream",
     "text": [
      "(345, 7)\n",
      "              mcv     alkphos        sgpt        sgot     gammagt      drinks  \\\n",
      "count  345.000000  345.000000  345.000000  345.000000  345.000000  345.000000   \n",
      "mean    90.159420   69.869565   30.405797   24.643478   38.284058    3.455072   \n",
      "std      4.448096   18.347670   19.512309   10.064494   39.254616    3.337835   \n",
      "min     65.000000   23.000000    4.000000    5.000000    5.000000    0.000000   \n",
      "25%     87.000000   57.000000   19.000000   19.000000   15.000000    0.500000   \n",
      "50%     90.000000   67.000000   26.000000   23.000000   25.000000    3.000000   \n",
      "75%     93.000000   80.000000   34.000000   27.000000   46.000000    6.000000   \n",
      "max    103.000000  138.000000  155.000000   82.000000  297.000000   20.000000   \n",
      "\n",
      "         selector  \n",
      "count  345.000000  \n",
      "mean     1.579710  \n",
      "std      0.494322  \n",
      "min      1.000000  \n",
      "25%      1.000000  \n",
      "50%      2.000000  \n",
      "75%      2.000000  \n",
      "max      2.000000  \n",
      "<class 'pandas.core.frame.DataFrame'>\n",
      "RangeIndex: 345 entries, 0 to 344\n",
      "Data columns (total 7 columns):\n",
      "mcv         345 non-null int64\n",
      "alkphos     345 non-null int64\n",
      "sgpt        345 non-null int64\n",
      "sgot        345 non-null int64\n",
      "gammagt     345 non-null int64\n",
      "drinks      345 non-null float64\n",
      "selector    345 non-null int64\n",
      "dtypes: float64(1), int64(6)\n",
      "memory usage: 18.9 KB\n",
      "None\n",
      "Index([u'mcv', u'alkphos', u'sgpt', u'sgot', u'gammagt', u'drinks',\n",
      "       u'selector'],\n",
      "      dtype='object')\n",
      "2    200\n",
      "1    145\n",
      "Name: selector, dtype: int64\n",
      "[4.441644780887855, 18.32106022142418, 19.48400967614935, 10.049896938845267, 39.19768413444709, 3.332994311682142, 0.49360540191091046]\n",
      "[-0.20024435456690254, -0.88928210313447931, -0.33767273340074139, 0.78286147623862501, 2.8406639703404113, -0.036379339400067406]\n",
      "[-0.091334857193462474, -0.098335209206317262, -0.035110559723074877, 0.15781323062288882, 0.14681808330964174, -0.0221126265944523]\n",
      "               mcv   alkphos      sgpt      sgot   gammagt    drinks  selector\n",
      "mcv       1.000000  0.044103  0.147695  0.187765  0.222314  0.312680 -0.091070\n",
      "alkphos   0.044103  1.000000  0.076208  0.146057  0.133140  0.100796 -0.098050\n",
      "sgpt      0.147695  0.076208  1.000000  0.739675  0.503435  0.206848 -0.035009\n",
      "sgot      0.187765  0.146057  0.739675  1.000000  0.527626  0.279588  0.157356\n",
      "gammagt   0.222314  0.133140  0.503435  0.527626  1.000000  0.341224  0.146393\n",
      "drinks    0.312680  0.100796  0.206848  0.279588  0.341224  1.000000 -0.022049\n",
      "selector -0.091070 -0.098050 -0.035009  0.157356  0.146393 -0.022049  1.000000\n"
     ]
    }
   ],
   "source": [
    "#The following is certain basic information about given data\n",
    "import pandas as pd\n",
    "import seaborn as sns\n",
    "import numpy as np\n",
    "import matplotlib.pyplot as plt\n",
    "import random\n",
    "b = pd.read_csv(\"bupa.data.txt\")\n",
    "print (b.shape)\n",
    "print b.describe()#calculates measures of central tendancy\n",
    "print b.info()#info about memory taken & datatypes\n",
    "print (b.columns)\n",
    "print (b[\"selector\"].value_counts())\n",
    "#Here we are calculating the standard deviation of each attribute\n",
    "std = []\n",
    "std.append(np.std(b[\"mcv\"]))\n",
    "std.append(np.std(b[\"alkphos\"]))\n",
    "std.append(np.std(b[\"sgpt\"]))\n",
    "std.append(np.std(b[\"sgot\"]))\n",
    "std.append(np.std(b[\"gammagt\"]))\n",
    "std.append(np.std(b[\"drinks\"]))\n",
    "std.append(np.std(b[\"selector\"]))\n",
    "print std\n",
    "#Now we are calculating the covariance between each attribute and the class which classifies.\n",
    "test = []\n",
    "tmp=(np.cov(b[\"mcv\"],b[\"selector\"]))\n",
    "test.append(tmp[0][1])\n",
    "tmp=(np.cov(b[\"alkphos\"],b[\"selector\"]))\n",
    "test.append(tmp[0][1])\n",
    "tmp=(np.cov(b[\"sgpt\"],b[\"selector\"]))\n",
    "test.append(tmp[0][1])\n",
    "tmp=(np.cov(b[\"sgot\"],b[\"selector\"]))\n",
    "test.append(tmp[0][1])\n",
    "tmp=(np.cov(b[\"gammagt\"],b[\"selector\"]))\n",
    "test.append(tmp[0][1])\n",
    "tmp=(np.cov(b[\"drinks\"],b[\"selector\"]))\n",
    "test.append(tmp[0][1])\n",
    "print test\n",
    "#To find the correlation of each attribute on the selector we should find correlation coefficinet between the selector class and\n",
    "#each attribute separatley.\n",
    "#Here we are calculating Pearson coefficient.\n",
    "corr = []\n",
    "i=0\n",
    "while i<6:\n",
    "    corr.append(test[i]/(std[i] * std[6]))\n",
    "    i+=1\n",
    "print corr\n",
    "print b.corr(method='pearson')"
   ]
  },
  {
   "cell_type": "markdown",
   "metadata": {},
   "source": [
    "By looking at the above correlated values we observe that only 2 values are postive for Pearson correlation coefficient.\n",
    "Therfore we can conclude that sgot and gammangt are the 2 most correlated features."
   ]
  },
  {
   "cell_type": "code",
   "execution_count": 40,
   "metadata": {},
   "outputs": [
    {
     "name": "stdout",
     "output_type": "stream",
     "text": [
      "0.980000\n",
      "sgot and gammagt are the 2 most correlated features\n"
     ]
    }
   ],
   "source": [
    "#We now take a random sample of 100 from sgot and gammagt and repeat the experiment for 50 times and test the samples using\n",
    "#Hypothesis testing.\n",
    "#Here we assume our Null hypothesis : sgot and gammagt are not correlated.\n",
    "t1=b[\"sgot\"]\n",
    "t2=b[\"gammagt\"]\n",
    "t3=b[\"selector\"]\n",
    "count=0\n",
    "i=0\n",
    "sgot =[]\n",
    "gammagt =[]\n",
    "selector =[]\n",
    "while i<50:\n",
    "    sample= random.sample(range(0,344),100)\n",
    "    j=0\n",
    "    while j<100:\n",
    "        sgot.append(t1[sample[j]])\n",
    "        gammagt.append(t2[sample[j]])\n",
    "        selector.append(t3[sample[j]])\n",
    "        j+=1\n",
    "    s1=np.std(sgot)\n",
    "    s2=np.std(gammagt)\n",
    "    s3=np.std(selector)\n",
    "    c1=np.cov(sgot,selector)\n",
    "    c2=np.cov(gammagt,selector)\n",
    "    cr1=c1[0][1]/(s1 *s3)\n",
    "    cr2=c2[0][1]/(s2 *s3)\n",
    "    #print(\"%f %f\" %(cr1,cr2))\n",
    "    if cr1 >0 and cr2>0:\n",
    "        count+=1\n",
    "    #print count\n",
    "    i+=1\n",
    "    del sgot[:]\n",
    "    del gammagt[:]\n",
    "    del selector[:]\n",
    "#print count\n",
    "print (\"%f\" %(count/50.0))\n",
    "if (count/50.0)>0.5:\n",
    "    print\"sgot and gammagt are the 2 most correlated features\""
   ]
  },
  {
   "cell_type": "markdown",
   "metadata": {},
   "source": [
    "Our Null Hypothesis which states that sgot and gammagt are not correlated is proven wrong.\n",
    "We got the correlation coefficient for 100 samples which repeated 50 times as an experiment as greater than 0.5.\n",
    "Therefore after hypothesis testing we can conclude that sgot and gammagt are 2 most correlted features."
   ]
  },
  {
   "cell_type": "markdown",
   "metadata": {},
   "source": [
    "<pre>\n",
    "Q2.\n",
    "    a. Simulate the coin tossing by writing a function wich gives the output \"head\" with 50% chance and \"tail\" with 50% chance\n",
    "    b. call the same function 250 times, find out the number tests which gave the output \"head\"\n",
    "    c. based on the result conclude that the coin is baised or not\n",
    "    d. prove your conclusion with the help of null hypothisis test\n",
    "    </pre>"
   ]
  },
  {
   "cell_type": "code",
   "execution_count": 47,
   "metadata": {},
   "outputs": [
    {
     "name": "stdout",
     "output_type": "stream",
     "text": [
      "144 106\n",
      "Coin is biased\n"
     ]
    }
   ],
   "source": [
    "def toss():\n",
    "    n=random.uniform(0,1)\n",
    "    if n>0 and n<0.5:\n",
    "        return 1\n",
    "    else:\n",
    "        return 0\n",
    "i=0\n",
    "head=0\n",
    "while i<250:\n",
    "    x=toss()\n",
    "    head+=x\n",
    "    i+=1\n",
    "tail=250-head\n",
    "print (\"%d %d\" %(head,tail))\n",
    "if head!=tail:\n",
    "    print\"Coin is biased\"\n",
    "else:\n",
    "    print\"Coin is unbiased\"\n",
    "    "
   ]
  },
  {
   "cell_type": "markdown",
   "metadata": {},
   "source": [
    "By looking at the number of heads and tails for the above experiment we can conclude that the coin is biased.\n",
    "Now we have to prove it using  Hypothesis test.\n",
    "We consider our Null Hypothesis as : Coin is unbiased.\n",
    "Now we perform the same experiment of calling the same function 250 times.This experiment is again repeated 500 times.\n",
    "The code which performs the experiment is given below."
   ]
  },
  {
   "cell_type": "code",
   "execution_count": 60,
   "metadata": {},
   "outputs": [
    {
     "name": "stdout",
     "output_type": "stream",
     "text": [
      "We are getting both the head and tail with equal chance for 20 experiments with probability of 10.000000\n",
      "Coin is biased\n"
     ]
    }
   ],
   "source": [
    "i=0\n",
    "count1=0\n",
    "while i<500:\n",
    "    j=0\n",
    "    h=0\n",
    "    while j<250:\n",
    "        x=toss()\n",
    "        h+=x\n",
    "        j+=1\n",
    "    t=250-h\n",
    "    if t==h:\n",
    "        count1+=1\n",
    "    i+=1\n",
    "print(\"We are getting both the head and tail with equal chance for %d experiments with probability of %f\" %(count1,count1/2.0))\n",
    "if count1/500 >0.5:\n",
    "    print\"Coin is unbiased\"\n",
    "else:\n",
    "    print\"Coin is biased\""
   ]
  },
  {
   "cell_type": "markdown",
   "metadata": {},
   "source": [
    "By observing the above experiment we can conclude that the coin is biased which is a contradiction to our null hypothesis.\n",
    "Therfore our coin is biased.\n"
   ]
  },
  {
   "cell_type": "code",
   "execution_count": 9,
   "metadata": {},
   "outputs": [
    {
     "data": {
      "image/png": "[encoded data removed]",
      "text/plain": [
       "<matplotlib.figure.Figure at 0xc7685f8>"
      ]
     },
     "metadata": {},
     "output_type": "display_data"
    },
    {
     "name": "stdout",
     "output_type": "stream",
     "text": [
      "-0.757293147305\n"
     ]
    },
    {
     "data": {
      "text/plain": [
       "SpearmanrResult(correlation=-0.65553142212568849, pvalue=1.0024014496100716e-62)"
      ]
     },
     "execution_count": 9,
     "metadata": {},
     "output_type": "execute_result"
    }
   ],
   "source": [
    "import numpy as np\n",
    "import math\n",
    "import scipy \n",
    "def genarate_data():\n",
    "    X = np.linspace(-10,10, 500)\n",
    "    Y = [(4.0 / 3 ** 2) * (x - 3) ** 2 for x in X]\n",
    "    return X, Y\n",
    "\n",
    "x,y=genarate_data()\n",
    "\n",
    "# print x\n",
    "# print y\n",
    "plt.scatter(x,y)\n",
    "plt.show()\n",
    "pear=np.corrcoef(x,y)[0,1]\n",
    "print pear\n",
    "spear=scipy.stats.spearmanr(x,y)\n",
    "#spear=np.corrcoef(x,y)\n",
    "spear\n",
    "#As it can be observed the given equation is a parabola.\n",
    "#For this we are getting both the spearman and pearson correlation coefficient as nan."
   ]
  },
  {
   "cell_type": "markdown",
   "metadata": {},
   "source": [
    "<pre>\n",
    "Q3. \n",
    "    a. call the function genarate_data() to get two vectors, \"X, Y = genarate_data()\"\n",
    "    b. find out the trasofrmation of given vectors which will help us to find the correlation between X, Y with the help of techniques that are discussed in the class (Pearson Product Moment Correlation, Spearman rank Order Correlation)\n",
    "        hint: use the techniques that are discussed in the class while solving \"X^2 + Y^2 =a^2 (circle data)\"\n",
    "    </pre>"
   ]
  },
  {
   "cell_type": "code",
   "execution_count": null,
   "metadata": {
    "collapsed": true
   },
   "outputs": [],
   "source": []
  }
 ],
 "metadata": {
  "kernelspec": {
   "display_name": "Python 2",
   "language": "python",
   "name": "python2"
  },
  "language_info": {
   "codemirror_mode": {
    "name": "ipython",
    "version": 2
   },
   "file_extension": ".py",
   "mimetype": "text/x-python",
   "name": "python",
   "nbconvert_exporter": "python",
   "pygments_lexer": "ipython2",
   "version": "2.7.13"
  }
 },
 "nbformat": 4,
 "nbformat_minor": 2
}
